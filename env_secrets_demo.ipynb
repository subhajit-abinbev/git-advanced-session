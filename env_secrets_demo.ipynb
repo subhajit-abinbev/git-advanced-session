{
 "cells": [
  {
   "cell_type": "markdown",
   "id": "0",
   "metadata": {},
   "source": [
    "# Environment Variables Demo - Accidental Secret Exposure\n",
    "\n",
    "This notebook demonstrates **good practice** (reading from env files) but shows how secrets can accidentally leak through print statements.\n",
    "\n",
    "⚠️ **This shows what happens when debugging code exposes secrets in output cells**"
   ]
  },
  {
   "cell_type": "code",
   "execution_count": null,
   "id": "1",
   "metadata": {},
   "outputs": [],
   "source": [
    "import os"
   ]
  },
  {
   "cell_type": "code",
   "execution_count": null,
   "id": "2",
   "metadata": {},
   "outputs": [],
   "source": [
    "# Good practice: Read API keys from environment\n",
    "openai_key = os.getenv('OPENAI_API_KEY')\n",
    "stripe_key = os.getenv('STRIPE_SECRET_KEY')\n",
    "github_token = os.getenv('GITHUB_TOKEN')\n",
    "\n",
    "print(\"API keys loaded from environment:\")\n",
    "print(f\"OpenAI key length: {len(openai_key) if openai_key else 0}\")\n",
    "print(f\"Stripe key length: {len(stripe_key) if stripe_key else 0}\")\n",
    "print(f\"GitHub token length: {len(github_token) if github_token else 0}\")"
   ]
  },
  {
   "cell_type": "code",
   "execution_count": null,
   "id": "3",
   "metadata": {},
   "outputs": [],
   "source": [
    "# 🚨 MISTAKE: Accidentally printing secrets while debugging\n",
    "print(\"\\n=== DEBUG INFO (OOPS!) ===\")\n",
    "print(f\"OpenAI API Key: {openai_key}\")  # This will expose the secret!\n",
    "print(f\"Stripe Secret: {stripe_key}\")   # This will expose the secret!\n",
    "print(f\"GitHub Token: {github_token}\")  # This will expose the secret!\n",
    "\n",
    "# This kind of debugging output is common but dangerous\n",
    "print(\"\\nAll environment variables:\")\n",
    "for key, value in os.environ.items():\n",
    "    if 'API' in key or 'SECRET' in key or 'TOKEN' in key or 'KEY' in key:\n",
    "        print(f\"{key}={value}\")  # Exposing multiple secrets!"
   ]
  },
  {
   "cell_type": "code",
   "execution_count": null,
   "id": "4",
   "metadata": {},
   "outputs": [],
   "source": [
    "# Another common mistake: Error handling that exposes secrets\n",
    "try:\n",
    "    response = requests.get(\n",
    "        \"https://api.openai.com/v1/models\",\n",
    "        headers={\"Authorization\": f\"Bearer {openai_key}\"}\n",
    "    )\n",
    "    print(f\"API call successful: {response.status_code}\")\n",
    "except Exception as e:\n",
    "    # Bad: This might print the full request including headers with secrets\n",
    "    print(f\"Error occurred: {e}\")\n",
    "    print(f\"Request headers: {{'Authorization': 'Bearer {openai_key}'}}\")\n",
    "    print(f\"Full API key for debugging: {openai_key}\")"
   ]
  },
  {
   "cell_type": "markdown",
   "id": "5",
   "metadata": {},
   "source": [
    "## What went wrong?\n",
    "\n",
    "Even though this notebook follows best practices by:\n",
    "- ✅ Reading secrets from environment variables\n",
    "- ✅ Not hardcoding secrets in the source code\n",
    "\n",
    "It still exposes secrets through:\n",
    "- 🚨 Debug print statements\n",
    "- 🚨 Error handling that logs sensitive data\n",
    "- 🚨 Output cells containing the actual secret values\n",
    "\n",
    "**This is why `nbstripout` is important** - it catches secrets in notebook outputs!"
   ]
  }
 ],
 "metadata": {
  "kernelspec": {
   "display_name": "git-demo",
   "language": "python",
   "name": "python3"
  },
  "language_info": {
   "codemirror_mode": {
    "name": "ipython",
    "version": 3
   },
   "file_extension": ".py",
   "mimetype": "text/x-python",
   "name": "python",
   "nbconvert_exporter": "python",
   "pygments_lexer": "ipython3",
   "version": "3.11.13"
  }
 },
 "nbformat": 4,
 "nbformat_minor": 5
}
